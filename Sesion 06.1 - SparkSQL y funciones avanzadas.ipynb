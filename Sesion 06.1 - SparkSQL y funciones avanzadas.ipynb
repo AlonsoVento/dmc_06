{
 "cells": [
  {
   "cell_type": "markdown",
   "metadata": {
    "application/vnd.databricks.v1+cell": {
     "cellMetadata": {},
     "inputWidgets": {},
     "nuid": "264b88b9-e96a-4be0-94d6-688df903859c",
     "showTitle": false,
     "tableResultSettingsMap": {},
     "title": ""
    }
   },
   "source": [
    "### Objetivo del laboratorio\n",
    "Aplicar funciones de ventana para analizar rendimiento académico, ranking de estudiantes y evolución de notas en una universidad ficticia."
   ]
  },
  {
   "cell_type": "markdown",
   "metadata": {
    "application/vnd.databricks.v1+cell": {
     "cellMetadata": {},
     "inputWidgets": {},
     "nuid": "3d2379f2-85c8-4c04-839f-4f6dc7392987",
     "showTitle": false,
     "tableResultSettingsMap": {},
     "title": ""
    }
   },
   "source": [
    "**Preparación**\n",
    "\n",
    "- Cargar `estudiantes.csv, cursos.csv, profesores.csv, matriculas.csv.`\n",
    "\n",
    "- Crear DataFrame `matriculas_enriched` con joins para enriquecer con nombre de estudiante, curso y facultad."
   ]
  },
  {
   "cell_type": "markdown",
   "metadata": {
    "application/vnd.databricks.v1+cell": {
     "cellMetadata": {},
     "inputWidgets": {},
     "nuid": "550778b4-86f8-45e8-aafd-23ed5678469e",
     "showTitle": false,
     "tableResultSettingsMap": {},
     "title": ""
    }
   },
   "source": [
    "**Caso 1 – Ranking de estudiantes por carrera**\n",
    "\n",
    "Identificar a los 3 mejores estudiantes en cada carrera por promedio de nota.\n",
    "\n",
    "- `AVG(nota_final)` por estudiante y carrera.\n",
    "\n",
    "- `RANK() OVER (PARTITION BY carrera ORDER BY AVG(nota_final) DESC).`\n",
    "\n",
    "- Guardar tabla Delta `ranking_estudiantes_carrera.`"
   ]
  },
  {
   "cell_type": "code",
   "execution_count": 0,
   "metadata": {
    "application/vnd.databricks.v1+cell": {
     "cellMetadata": {
      "byteLimit": 2048000,
      "rowLimit": 10000
     },
     "inputWidgets": {},
     "nuid": "322fb2df-8436-411a-9d22-b658fc455e97",
     "showTitle": false,
     "tableResultSettingsMap": {},
     "title": ""
    }
   },
   "outputs": [],
   "source": [
    "from pyspark.sql.functions import col, avg, round, rank, expr, lag, lit, when, sum\n",
    "from pyspark.sql.window import Window"
   ]
  },
  {
   "cell_type": "code",
   "execution_count": 0,
   "metadata": {
    "application/vnd.databricks.v1+cell": {
     "cellMetadata": {
      "byteLimit": 2048000,
      "rowLimit": 10000
     },
     "inputWidgets": {},
     "nuid": "1f393895-88ce-4375-9e00-2a5d03570ac8",
     "showTitle": false,
     "tableResultSettingsMap": {},
     "title": ""
    }
   },
   "outputs": [],
   "source": [
    "catalog_name = \"dmc_06\"\n",
    "schema_name = \"universidad\"\n",
    "\n",
    "spark.sql(\n",
    "    f\"CREATE CATALOG IF NOT EXISTS {catalog_name}\"\n",
    ")\n",
    "spark.sql(\n",
    "    f\"CREATE SCHEMA IF NOT EXISTS {catalog_name}.{schema_name}\"\n",
    ")"
   ]
  },
  {
   "cell_type": "code",
   "execution_count": 0,
   "metadata": {
    "application/vnd.databricks.v1+cell": {
     "cellMetadata": {
      "byteLimit": 2048000,
      "rowLimit": 10000
     },
     "inputWidgets": {},
     "nuid": "82a5d0ac-26c9-4944-8735-a870e946748c",
     "showTitle": false,
     "tableResultSettingsMap": {},
     "title": ""
    }
   },
   "outputs": [],
   "source": [
    "path_base=\"/Volumes/dmc_06/default/universidad/input/\"\n",
    "\n",
    "path_estudiantes=f\"{path_base}estudiantes.csv\"\n",
    "path_cursos=f\"{path_base}cursos.csv\"\n",
    "path_profesores=f\"{path_base}profesores.csv\"\n",
    "path_matriculas=f\"{path_base}matriculas.csv\"\n"
   ]
  },
  {
   "cell_type": "code",
   "execution_count": 0,
   "metadata": {
    "application/vnd.databricks.v1+cell": {
     "cellMetadata": {
      "byteLimit": 2048000,
      "rowLimit": 10000
     },
     "inputWidgets": {},
     "nuid": "0844383b-02c6-418e-a722-bc1d69b6693b",
     "showTitle": false,
     "tableResultSettingsMap": {},
     "title": ""
    }
   },
   "outputs": [],
   "source": [
    "df_estudiantes= spark.read.option(\"header\",True).option(\"inferSchema\",True).csv(path_estudiantes)\n",
    "df_cursos= spark.read.option(\"header\",True).option(\"inferSchema\",True).csv(path_cursos)\n",
    "df_profesores= spark.read.option(\"header\",True).option(\"inferSchema\",True).csv(path_profesores)\n",
    "df_matriculas= spark.read.option(\"header\",True).option(\"inferSchema\",True).csv(path_matriculas)"
   ]
  },
  {
   "cell_type": "code",
   "execution_count": 0,
   "metadata": {
    "application/vnd.databricks.v1+cell": {
     "cellMetadata": {
      "byteLimit": 2048000,
      "rowLimit": 10000
     },
     "inputWidgets": {},
     "nuid": "5674c3e8-61a5-4e9e-a63d-f57315bb0be7",
     "showTitle": false,
     "tableResultSettingsMap": {},
     "title": ""
    }
   },
   "outputs": [],
   "source": [
    "df_matriculas_clean=(\n",
    "    df_matriculas\n",
    "    .dropna(subset=[\"id_estudiante\",\"id_curso\",\"nota_final\"])\n",
    "    .filter(col(\"nota_final\")>=0)\n",
    ")"
   ]
  },
  {
   "cell_type": "code",
   "execution_count": 0,
   "metadata": {
    "application/vnd.databricks.v1+cell": {
     "cellMetadata": {
      "byteLimit": 2048000,
      "rowLimit": 10000
     },
     "inputWidgets": {},
     "nuid": "3dbd75af-7286-4d53-b8b3-a9453aee25c3",
     "showTitle": false,
     "tableResultSettingsMap": {},
     "title": ""
    }
   },
   "outputs": [],
   "source": [
    "df_matriculas_enriched = (\n",
    "    df_matriculas_clean.alias(\"mc\")\n",
    "    .join(\n",
    "        df_estudiantes.alias(\"e\"),\n",
    "        col(\"mc.id_estudiante\") == col(\"e.id_estudiante\"),\n",
    "        \"left\"\n",
    "    )\n",
    "    .join(\n",
    "        df_cursos.alias(\"c\"),\n",
    "        col(\"mc.id_curso\") == col(\"c.id_curso\"),\n",
    "        \"left\"\n",
    "    )\n",
    "    .drop(\n",
    "        col(\"e.id_estudiante\"),\n",
    "        col(\"c.id_curso\")\n",
    "    )\n",
    ")"
   ]
  },
  {
   "cell_type": "code",
   "execution_count": 0,
   "metadata": {
    "application/vnd.databricks.v1+cell": {
     "cellMetadata": {
      "byteLimit": 2048000,
      "rowLimit": 10000
     },
     "inputWidgets": {},
     "nuid": "a285bf31-4ece-44b1-b1ce-53a48e1260dc",
     "showTitle": false,
     "tableResultSettingsMap": {
      "0": {
       "dataGridStateBlob": "{\"version\":1,\"tableState\":{\"columnPinning\":{\"left\":[\"#row_number#\"],\"right\":[]},\"columnSizing\":{},\"columnVisibility\":{}},\"settings\":{\"columns\":{}},\"syncTimestamp\":1755829625912}",
       "filterBlob": null,
       "queryPlanFiltersBlob": null,
       "tableResultIndex": 0
      }
     },
     "title": ""
    }
   },
   "outputs": [],
   "source": [
    "display(df_matriculas_enriched)"
   ]
  },
  {
   "cell_type": "code",
   "execution_count": 0,
   "metadata": {
    "application/vnd.databricks.v1+cell": {
     "cellMetadata": {
      "byteLimit": 2048000,
      "rowLimit": 10000
     },
     "inputWidgets": {},
     "nuid": "6e0658c9-d1ec-4b56-bb22-5620bc4278b6",
     "showTitle": false,
     "tableResultSettingsMap": {},
     "title": ""
    }
   },
   "outputs": [],
   "source": [
    "%python\n",
    "df_avg_estudiante_carrera = (\n",
    "    df_matriculas_enriched\n",
    "    .groupBy(\"id_estudiante\", \"carrera\")\n",
    "    .agg(round(avg(col(\"nota_final\")), 2).alias(\"promedio\"))\n",
    ")"
   ]
  },
  {
   "cell_type": "code",
   "execution_count": 0,
   "metadata": {
    "application/vnd.databricks.v1+cell": {
     "cellMetadata": {
      "byteLimit": 2048000,
      "rowLimit": 10000
     },
     "inputWidgets": {},
     "nuid": "7da8bb74-47c5-41bd-8805-33763b891c0a",
     "showTitle": false,
     "tableResultSettingsMap": {},
     "title": ""
    }
   },
   "outputs": [],
   "source": [
    "windows_rank = Window.partitionBy(\"carrera\").orderBy(col(\"promedio\").desc())\n",
    "\n",
    "df_ranking_estudiantes_carrera = (\n",
    "    df_avg_estudiante_carrera\n",
    "    .withColumn(\"ranking\", rank().over(windows_rank))\n",
    "    .filter(col(\"ranking\") <= 3)\n",
    ")"
   ]
  },
  {
   "cell_type": "code",
   "execution_count": 0,
   "metadata": {
    "application/vnd.databricks.v1+cell": {
     "cellMetadata": {
      "byteLimit": 2048000,
      "rowLimit": 10000
     },
     "inputWidgets": {},
     "nuid": "8e2337cb-4cd4-490e-824b-619770045cb8",
     "showTitle": false,
     "tableResultSettingsMap": {},
     "title": ""
    }
   },
   "outputs": [],
   "source": [
    "display(df_ranking_estudiantes_carrera)"
   ]
  },
  {
   "cell_type": "code",
   "execution_count": 0,
   "metadata": {
    "application/vnd.databricks.v1+cell": {
     "cellMetadata": {
      "byteLimit": 2048000,
      "rowLimit": 10000
     },
     "inputWidgets": {},
     "nuid": "4d445319-5436-4ef9-bb2d-173936b1847d",
     "showTitle": false,
     "tableResultSettingsMap": {},
     "title": ""
    }
   },
   "outputs": [],
   "source": [
    "df_ranking_estudiantes_carrera.write.format(\"delta\").mode(\"overwrite\").saveAsTable(f\"{catalog_name}.{schema_name}.ranking_estudiantes_carrera\")"
   ]
  },
  {
   "cell_type": "code",
   "execution_count": 0,
   "metadata": {
    "application/vnd.databricks.v1+cell": {
     "cellMetadata": {
      "byteLimit": 2048000,
      "implicitDf": true,
      "rowLimit": 10000
     },
     "inputWidgets": {},
     "nuid": "0c578579-aadd-4293-9bd3-c4968e276c84",
     "showTitle": false,
     "tableResultSettingsMap": {},
     "title": ""
    }
   },
   "outputs": [],
   "source": [
    "%sql\n",
    "select * from dmc_06.universidad.ranking_estudiantes_carrera"
   ]
  },
  {
   "cell_type": "markdown",
   "metadata": {
    "application/vnd.databricks.v1+cell": {
     "cellMetadata": {},
     "inputWidgets": {},
     "nuid": "c2f432a1-15a4-4859-b093-e0c79a275726",
     "showTitle": false,
     "tableResultSettingsMap": {},
     "title": ""
    }
   },
   "source": [
    "**Caso 2 – Evolución de notas de cada estudiante**\n",
    "\n",
    "Ver cómo varían las notas de cada alumno a lo largo de los semestres.\n",
    "\n",
    "- Calcular promedio de notas por semestre.\n",
    "\n",
    "- Usar `LAG()` para obtener nota promedio del semestre anterior.\n",
    "\n",
    "- Columna `variacion = nota_promedio - nota_semestre_anterior.`\n",
    "\n",
    "- Guardar tabla Delta `variacion_notas_estudiante.`"
   ]
  },
  {
   "cell_type": "code",
   "execution_count": 0,
   "metadata": {
    "application/vnd.databricks.v1+cell": {
     "cellMetadata": {
      "byteLimit": 2048000,
      "rowLimit": 10000
     },
     "inputWidgets": {},
     "nuid": "785d6a2a-4823-4433-90e0-fb20c96ea826",
     "showTitle": false,
     "tableResultSettingsMap": {},
     "title": ""
    }
   },
   "outputs": [],
   "source": [
    "expr_ord = expr(\"int(split(semestre, '-')[0]) * 100 + int(split(semestre, '-')[1])\")\n",
    "\n",
    "df_avg_estudiante_semestre = (\n",
    "    df_matriculas_enriched\n",
    "    .groupBy(\"id_estudiante\", \"semestre\")\n",
    "    .agg(round(avg(col(\"nota_final\")), 2).alias(\"promedio\"))\n",
    "    .withColumn(\n",
    "        \"semestre_orden\",\n",
    "        expr_ord\n",
    "    )\n",
    ")"
   ]
  },
  {
   "cell_type": "code",
   "execution_count": 0,
   "metadata": {
    "application/vnd.databricks.v1+cell": {
     "cellMetadata": {
      "byteLimit": 2048000,
      "rowLimit": 10000
     },
     "inputWidgets": {},
     "nuid": "9502b715-86b8-4472-a57d-ad4856cc72ef",
     "showTitle": false,
     "tableResultSettingsMap": {},
     "title": ""
    }
   },
   "outputs": [],
   "source": [
    "display(df_avg_estudiante_semestre)"
   ]
  },
  {
   "cell_type": "code",
   "execution_count": 0,
   "metadata": {
    "application/vnd.databricks.v1+cell": {
     "cellMetadata": {
      "byteLimit": 2048000,
      "rowLimit": 10000
     },
     "inputWidgets": {},
     "nuid": "6dbc3a69-e36c-414d-a10f-ca60e2bf1a99",
     "showTitle": false,
     "tableResultSettingsMap": {},
     "title": ""
    }
   },
   "outputs": [],
   "source": [
    "windows_lag = Window.partitionBy(\"id_estudiante\").orderBy(col(\"semestre_orden\"))\n",
    "\n",
    "df_variacion_notas_estudiante = (\n",
    "    df_avg_estudiante_semestre\n",
    "    .withColumn(\"nota_anterior\", lag(\"promedio\").over(windows_lag))\n",
    "    .withColumn(\"variacion\", col(\"promedio\") - col(\"nota_anterior\"))\n",
    ")"
   ]
  },
  {
   "cell_type": "code",
   "execution_count": 0,
   "metadata": {
    "application/vnd.databricks.v1+cell": {
     "cellMetadata": {
      "byteLimit": 2048000,
      "rowLimit": 10000
     },
     "inputWidgets": {},
     "nuid": "8c557078-832e-44b8-959c-612b6c167147",
     "showTitle": false,
     "tableResultSettingsMap": {},
     "title": ""
    }
   },
   "outputs": [],
   "source": [
    "display(df_variacion_notas_estudiante)"
   ]
  },
  {
   "cell_type": "code",
   "execution_count": 0,
   "metadata": {
    "application/vnd.databricks.v1+cell": {
     "cellMetadata": {
      "byteLimit": 2048000,
      "rowLimit": 10000
     },
     "inputWidgets": {},
     "nuid": "7c98c004-48fb-4100-bd58-6a1b05d833e2",
     "showTitle": false,
     "tableResultSettingsMap": {},
     "title": ""
    }
   },
   "outputs": [],
   "source": [
    "df_variacion_notas_estudiante.write.format(\"delta\").mode(\"overwrite\").saveAsTable(f\"{catalog_name}.{schema_name}.variacion_notas_estudiante\")"
   ]
  },
  {
   "cell_type": "code",
   "execution_count": 0,
   "metadata": {
    "application/vnd.databricks.v1+cell": {
     "cellMetadata": {
      "byteLimit": 2048000,
      "implicitDf": true,
      "rowLimit": 10000
     },
     "inputWidgets": {},
     "nuid": "f9b5730b-3826-4d23-8025-b1e4150deb6c",
     "showTitle": false,
     "tableResultSettingsMap": {},
     "title": ""
    }
   },
   "outputs": [],
   "source": [
    "%sql\n",
    "select * from dmc_06.universidad.variacion_notas_estudiante"
   ]
  },
  {
   "cell_type": "markdown",
   "metadata": {
    "application/vnd.databricks.v1+cell": {
     "cellMetadata": {},
     "inputWidgets": {},
     "nuid": "8c33c0ca-6909-4af9-90e2-064f042008e7",
     "showTitle": false,
     "tableResultSettingsMap": {},
     "title": ""
    }
   },
   "source": [
    "**Caso 3 – Acumulado de créditos aprobados**\n",
    "\n",
    "Finanzas académicas quiere saber cuántos créditos ha acumulado cada estudiante.\n",
    "\n",
    "- Considerar cursos con nota_final >= 11 como aprobados.\n",
    "\n",
    "- Usar `SUM(creditos) OVER (PARTITION BY id_estudiante ORDER BY semestre).`\n",
    "\n",
    "- Crear columna `estado`:\n",
    "\n",
    "  - Menos de 30 créditos → “Inicial”\n",
    "\n",
    "  - 30–90 créditos → “Intermedio”\n",
    "\n",
    "  - Más de 90 créditos → “Avanzado”\n",
    "\n",
    "- Guardar tabla Delta `creditos_acumulados.`"
   ]
  },
  {
   "cell_type": "code",
   "execution_count": 0,
   "metadata": {
    "application/vnd.databricks.v1+cell": {
     "cellMetadata": {
      "byteLimit": 2048000,
      "rowLimit": 10000
     },
     "inputWidgets": {},
     "nuid": "d2d47e01-15f9-4974-8464-7b78b6a666a5",
     "showTitle": false,
     "tableResultSettingsMap": {},
     "title": ""
    }
   },
   "outputs": [],
   "source": [
    "df_aprobados = (\n",
    "    df_matriculas_enriched.alias(\"me\")\n",
    "    .join(\n",
    "        df_cursos.alias(\"c\"),\n",
    "        col(\"me.id_curso\") == col(\"c.id_curso\"),\n",
    "        \"left\"\n",
    "    )\n",
    "    .filter(col(\"me.nota_final\") >= 11)\n",
    "    .select(\n",
    "        col(\"me.id_estudiante\"),\n",
    "        col(\"me.semestre\"),\n",
    "        col(\"c.creditos\")\n",
    "    )\n",
    "    .withColumn(\n",
    "        \"semestre_orden\",\n",
    "        expr_ord\n",
    "    ) \n",
    ")"
   ]
  },
  {
   "cell_type": "code",
   "execution_count": 0,
   "metadata": {
    "application/vnd.databricks.v1+cell": {
     "cellMetadata": {
      "byteLimit": 2048000,
      "rowLimit": 10000
     },
     "inputWidgets": {},
     "nuid": "0a0842da-d760-45e7-8b30-64df24d4598e",
     "showTitle": false,
     "tableResultSettingsMap": {},
     "title": ""
    }
   },
   "outputs": [],
   "source": [
    "display(df_aprobados)"
   ]
  },
  {
   "cell_type": "code",
   "execution_count": 0,
   "metadata": {
    "application/vnd.databricks.v1+cell": {
     "cellMetadata": {
      "byteLimit": 2048000,
      "rowLimit": 10000
     },
     "inputWidgets": {},
     "nuid": "8cd7a7fa-7a10-4839-a552-147fbce3f934",
     "showTitle": false,
     "tableResultSettingsMap": {},
     "title": ""
    }
   },
   "outputs": [],
   "source": [
    "windows_acum = Window.partitionBy(\"id_estudiante\").orderBy(col(\"semestre_orden\"))\n",
    "\n",
    "df_creditos_acumulados = (\n",
    "    df_aprobados\n",
    "    .withColumn(\"creditos_acumulados\", sum(\"creditos\").over(windows_acum))\n",
    "    .withColumn(\n",
    "        \"estado\",\n",
    "        when(col(\"creditos_acumulados\") < 30, lit(\"Inicial\"))\n",
    "        .when(\n",
    "            (col(\"creditos_acumulados\") >= 30) &\n",
    "            (col(\"creditos_acumulados\") < 90), \n",
    "            lit(\"Intermedio\")\n",
    "        )\n",
    "        .otherwise(lit(\"Avanzado\"))\n",
    "    )       \n",
    ")"
   ]
  },
  {
   "cell_type": "code",
   "execution_count": 0,
   "metadata": {
    "application/vnd.databricks.v1+cell": {
     "cellMetadata": {
      "byteLimit": 2048000,
      "rowLimit": 10000
     },
     "inputWidgets": {},
     "nuid": "daf45bd8-eabb-4235-9687-b51df34e90c0",
     "showTitle": false,
     "tableResultSettingsMap": {},
     "title": ""
    }
   },
   "outputs": [],
   "source": [
    "df_creditos_acumulados.write.format(\"delta\").mode(\"overwrite\").saveAsTable(f\"{catalog_name}.{schema_name}.creditos_acumulados\")"
   ]
  },
  {
   "cell_type": "code",
   "execution_count": 0,
   "metadata": {
    "application/vnd.databricks.v1+cell": {
     "cellMetadata": {
      "byteLimit": 2048000,
      "implicitDf": true,
      "rowLimit": 10000
     },
     "inputWidgets": {},
     "nuid": "42e8225c-174f-4e33-a35c-5b04381cfc83",
     "showTitle": false,
     "tableResultSettingsMap": {},
     "title": ""
    }
   },
   "outputs": [],
   "source": [
    "%sql\n",
    "\n",
    "select * from dmc_06.universidad.creditos_acumulados"
   ]
  },
  {
   "cell_type": "markdown",
   "metadata": {
    "application/vnd.databricks.v1+cell": {
     "cellMetadata": {},
     "inputWidgets": {},
     "nuid": "390e8055-b6e1-4d25-a6d1-4476c0d76245",
     "showTitle": false,
     "tableResultSettingsMap": {},
     "title": ""
    }
   },
   "source": [
    "**Validaciones**\n",
    "\n",
    "¿Quién es el mejor estudiante de Ingeniería?\n",
    "\n",
    "¿Qué estudiante tuvo la mayor mejora de un semestre a otro?\n",
    "\n",
    "¿Cuántos estudiantes ya están en estado “Avanzado”?"
   ]
  }
 ],
 "metadata": {
  "application/vnd.databricks.v1+notebook": {
   "computePreferences": {
    "hardware": {
     "accelerator": null,
     "gpuPoolId": null,
     "memory": "HIGH"
    }
   },
   "dashboards": [],
   "environmentMetadata": {
    "base_environment": "",
    "environment_version": "2"
   },
   "inputWidgetPreferences": null,
   "language": "python",
   "notebookMetadata": {
    "mostRecentlyExecutedCommandWithImplicitDF": {
     "commandId": 8510173972698225,
     "dataframes": [
      "_sqldf"
     ]
    },
    "pythonIndentUnit": 4
   },
   "notebookName": "Sesion 06.1 - SparkSQL y funciones avanzadas",
   "widgets": {}
  },
  "language_info": {
   "name": "python"
  }
 },
 "nbformat": 4,
 "nbformat_minor": 0
}
